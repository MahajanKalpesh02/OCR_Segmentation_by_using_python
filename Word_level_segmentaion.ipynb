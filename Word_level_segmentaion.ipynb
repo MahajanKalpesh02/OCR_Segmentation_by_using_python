{
 "cells": [
  {
   "cell_type": "code",
   "execution_count": null,
   "metadata": {
    "vscode": {
     "languageId": "plaintext"
    }
   },
   "outputs": [],
   "source": [
    "import cv2\n",
    "import pytesseract\n",
    "from pytesseract import Output\n",
    "import matplotlib.pyplot as plt\n",
    "\n",
    "# Load the image\n",
    "image_path = \"33.jpg\"  # Replace with your image path\n",
    "image = cv2.imread(image_path)\n",
    "\n",
    "# Convert to grayscale\n",
    "gray = cv2.cvtColor(image, cv2.COLOR_BGR2GRAY)\n",
    "\n",
    "# Apply thresholding\n",
    "_, binary_image = cv2.threshold(gray, 128, 255, cv2.THRESH_BINARY | cv2.THRESH_OTSU)\n",
    "\n",
    "# Perform OCR with word-level bounding boxes\n",
    "custom_config = r'--psm 6'  # Page segmentation mode 6: Assume a single uniform block of text\n",
    "details = pytesseract.image_to_data(binary_image, config=custom_config, output_type=Output.DICT)\n",
    "\n",
    "# Plot the image with word bounding boxes\n",
    "plt.figure(figsize=(12, 8))\n",
    "plt.imshow(cv2.cvtColor(image, cv2.COLOR_BGR2RGB))\n",
    "plt.axis('off')\n",
    "\n",
    "# Draw bounding boxes around each detected word\n",
    "n_boxes = len(details['text'])\n",
    "for i in range(n_boxes):\n",
    "    if int(details['conf'][i]) > 0:  # Filter out low-confidence detections\n",
    "        x, y, w, h = (details['left'][i], details['top'][i], details['width'][i], details['height'][i])\n",
    "        word = details['text'][i]\n",
    "        plt.gca().add_patch(plt.Rectangle(\n",
    "            (x, y), w, h,  # Top-left corner and size\n",
    "            edgecolor='red',\n",
    "            facecolor='none',\n",
    "            linewidth=2\n",
    "        ))\n",
    "        plt.text(x, y - 10, word, color='blue', fontsize=12)\n",
    "\n",
    "plt.title(\"Word-Level Segmentation\")\n",
    "plt.show()     \n",
    "\n",
    "for this code i want readme file and also mention which libraries should user install in system with short description and command for that give me readme file"
   ]
  }
 ],
 "metadata": {
  "language_info": {
   "name": "python"
  }
 },
 "nbformat": 4,
 "nbformat_minor": 2
}
